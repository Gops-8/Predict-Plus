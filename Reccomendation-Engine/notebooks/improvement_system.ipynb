{
 "cells": [
  {
   "cell_type": "code",
   "execution_count": 2,
   "id": "7b4915ea",
   "metadata": {},
   "outputs": [],
   "source": [
    "import pandas as pd\n",
    "from sklearn.model_selection import train_test_split\n",
    "import numpy as np"
   ]
  },
  {
   "cell_type": "code",
   "execution_count": 3,
   "id": "166fde52",
   "metadata": {},
   "outputs": [],
   "source": [
    "df= pd.read_pickle(\"final_train_test_risk_score.pkl.bz2\",compression=\"bz2\")"
   ]
  },
  {
   "cell_type": "code",
   "execution_count": 4,
   "id": "d2d52e9d",
   "metadata": {},
   "outputs": [
    {
     "data": {
      "text/html": [
       "<div>\n",
       "<style scoped>\n",
       "    .dataframe tbody tr th:only-of-type {\n",
       "        vertical-align: middle;\n",
       "    }\n",
       "\n",
       "    .dataframe tbody tr th {\n",
       "        vertical-align: top;\n",
       "    }\n",
       "\n",
       "    .dataframe thead th {\n",
       "        text-align: right;\n",
       "    }\n",
       "</style>\n",
       "<table border=\"1\" class=\"dataframe\">\n",
       "  <thead>\n",
       "    <tr style=\"text-align: right;\">\n",
       "      <th></th>\n",
       "      <th>0</th>\n",
       "      <th>1</th>\n",
       "      <th>2</th>\n",
       "      <th>3</th>\n",
       "      <th>4</th>\n",
       "    </tr>\n",
       "  </thead>\n",
       "  <tbody>\n",
       "    <tr>\n",
       "      <th>defaul_payment_hist</th>\n",
       "      <td>0</td>\n",
       "      <td>0</td>\n",
       "      <td>0</td>\n",
       "      <td>35</td>\n",
       "      <td>38</td>\n",
       "    </tr>\n",
       "    <tr>\n",
       "      <th>credit_history</th>\n",
       "      <td>10957</td>\n",
       "      <td>5114</td>\n",
       "      <td>4595</td>\n",
       "      <td>6909</td>\n",
       "      <td>7426</td>\n",
       "    </tr>\n",
       "    <tr>\n",
       "      <th>open_acc</th>\n",
       "      <td>3</td>\n",
       "      <td>3</td>\n",
       "      <td>2</td>\n",
       "      <td>10</td>\n",
       "      <td>15</td>\n",
       "    </tr>\n",
       "    <tr>\n",
       "      <th>indebtedness</th>\n",
       "      <td>0</td>\n",
       "      <td>0</td>\n",
       "      <td>0</td>\n",
       "      <td>0</td>\n",
       "      <td>17.4687</td>\n",
       "    </tr>\n",
       "    <tr>\n",
       "      <th>member_id</th>\n",
       "      <td>786442</td>\n",
       "      <td>655371</td>\n",
       "      <td>917517</td>\n",
       "      <td>786448</td>\n",
       "      <td>917526</td>\n",
       "    </tr>\n",
       "    <tr>\n",
       "      <th>amount</th>\n",
       "      <td>180957</td>\n",
       "      <td>151353</td>\n",
       "      <td>98831</td>\n",
       "      <td>174366</td>\n",
       "      <td>80588</td>\n",
       "    </tr>\n",
       "    <tr>\n",
       "      <th>mf_return</th>\n",
       "      <td>1.90006e+07</td>\n",
       "      <td>6.16484e+06</td>\n",
       "      <td>6.68061e+06</td>\n",
       "      <td>1.20015e+07</td>\n",
       "      <td>5.84016e+06</td>\n",
       "    </tr>\n",
       "    <tr>\n",
       "      <th>balance</th>\n",
       "      <td>260478</td>\n",
       "      <td>221916</td>\n",
       "      <td>143652</td>\n",
       "      <td>254640</td>\n",
       "      <td>113281</td>\n",
       "    </tr>\n",
       "    <tr>\n",
       "      <th>score</th>\n",
       "      <td>267.434</td>\n",
       "      <td>168.518</td>\n",
       "      <td>169.171</td>\n",
       "      <td>201.577</td>\n",
       "      <td>265.713</td>\n",
       "    </tr>\n",
       "    <tr>\n",
       "      <th>improvement</th>\n",
       "      <td>investment_score</td>\n",
       "      <td>investment_score</td>\n",
       "      <td>risk_score</td>\n",
       "      <td>investment_score</td>\n",
       "      <td>roi_score</td>\n",
       "    </tr>\n",
       "    <tr>\n",
       "      <th>cumulative_tenure</th>\n",
       "      <td>213</td>\n",
       "      <td>208</td>\n",
       "      <td>90</td>\n",
       "      <td>179</td>\n",
       "      <td>87</td>\n",
       "    </tr>\n",
       "    <tr>\n",
       "      <th>cumulative_inv_amount</th>\n",
       "      <td>2576727</td>\n",
       "      <td>1950971</td>\n",
       "      <td>973186</td>\n",
       "      <td>2059523</td>\n",
       "      <td>1214105</td>\n",
       "    </tr>\n",
       "    <tr>\n",
       "      <th>cumulative_risk</th>\n",
       "      <td>48</td>\n",
       "      <td>17</td>\n",
       "      <td>0</td>\n",
       "      <td>15</td>\n",
       "      <td>30</td>\n",
       "    </tr>\n",
       "    <tr>\n",
       "      <th>total_mfs</th>\n",
       "      <td>16</td>\n",
       "      <td>17</td>\n",
       "      <td>9</td>\n",
       "      <td>15</td>\n",
       "      <td>6</td>\n",
       "    </tr>\n",
       "    <tr>\n",
       "      <th>total_tenure</th>\n",
       "      <td>123</td>\n",
       "      <td>136</td>\n",
       "      <td>80</td>\n",
       "      <td>92</td>\n",
       "      <td>68</td>\n",
       "    </tr>\n",
       "    <tr>\n",
       "      <th>mf_cat_equity_scheme</th>\n",
       "      <td>2</td>\n",
       "      <td>1</td>\n",
       "      <td>0</td>\n",
       "      <td>0</td>\n",
       "      <td>0</td>\n",
       "    </tr>\n",
       "    <tr>\n",
       "      <th>mf_cat_debt_scheme</th>\n",
       "      <td>2</td>\n",
       "      <td>4</td>\n",
       "      <td>3</td>\n",
       "      <td>3</td>\n",
       "      <td>1</td>\n",
       "    </tr>\n",
       "    <tr>\n",
       "      <th>mf_cat_other_scheme</th>\n",
       "      <td>0</td>\n",
       "      <td>0</td>\n",
       "      <td>1</td>\n",
       "      <td>0</td>\n",
       "      <td>0</td>\n",
       "    </tr>\n",
       "    <tr>\n",
       "      <th>mf_cat_hybrid_scheme</th>\n",
       "      <td>0</td>\n",
       "      <td>0</td>\n",
       "      <td>0</td>\n",
       "      <td>0</td>\n",
       "      <td>0</td>\n",
       "    </tr>\n",
       "    <tr>\n",
       "      <th>mf_cat_solution_scheme</th>\n",
       "      <td>0</td>\n",
       "      <td>0</td>\n",
       "      <td>1</td>\n",
       "      <td>0</td>\n",
       "      <td>0</td>\n",
       "    </tr>\n",
       "    <tr>\n",
       "      <th>mf_cat_others</th>\n",
       "      <td>12</td>\n",
       "      <td>10</td>\n",
       "      <td>4</td>\n",
       "      <td>9</td>\n",
       "      <td>5</td>\n",
       "    </tr>\n",
       "  </tbody>\n",
       "</table>\n",
       "</div>"
      ],
      "text/plain": [
       "                                       0                 1            2  \\\n",
       "defaul_payment_hist                    0                 0            0   \n",
       "credit_history                     10957              5114         4595   \n",
       "open_acc                               3                 3            2   \n",
       "indebtedness                           0                 0            0   \n",
       "member_id                         786442            655371       917517   \n",
       "amount                            180957            151353        98831   \n",
       "mf_return                    1.90006e+07       6.16484e+06  6.68061e+06   \n",
       "balance                           260478            221916       143652   \n",
       "score                            267.434           168.518      169.171   \n",
       "improvement             investment_score  investment_score   risk_score   \n",
       "cumulative_tenure                    213               208           90   \n",
       "cumulative_inv_amount            2576727           1950971       973186   \n",
       "cumulative_risk                       48                17            0   \n",
       "total_mfs                             16                17            9   \n",
       "total_tenure                         123               136           80   \n",
       "mf_cat_equity_scheme                   2                 1            0   \n",
       "mf_cat_debt_scheme                     2                 4            3   \n",
       "mf_cat_other_scheme                    0                 0            1   \n",
       "mf_cat_hybrid_scheme                   0                 0            0   \n",
       "mf_cat_solution_scheme                 0                 0            1   \n",
       "mf_cat_others                         12                10            4   \n",
       "\n",
       "                                       3            4  \n",
       "defaul_payment_hist                   35           38  \n",
       "credit_history                      6909         7426  \n",
       "open_acc                              10           15  \n",
       "indebtedness                           0      17.4687  \n",
       "member_id                         786448       917526  \n",
       "amount                            174366        80588  \n",
       "mf_return                    1.20015e+07  5.84016e+06  \n",
       "balance                           254640       113281  \n",
       "score                            201.577      265.713  \n",
       "improvement             investment_score    roi_score  \n",
       "cumulative_tenure                    179           87  \n",
       "cumulative_inv_amount            2059523      1214105  \n",
       "cumulative_risk                       15           30  \n",
       "total_mfs                             15            6  \n",
       "total_tenure                          92           68  \n",
       "mf_cat_equity_scheme                   0            0  \n",
       "mf_cat_debt_scheme                     3            1  \n",
       "mf_cat_other_scheme                    0            0  \n",
       "mf_cat_hybrid_scheme                   0            0  \n",
       "mf_cat_solution_scheme                 0            0  \n",
       "mf_cat_others                          9            5  "
      ]
     },
     "execution_count": 4,
     "metadata": {},
     "output_type": "execute_result"
    }
   ],
   "source": [
    "df.head().T"
   ]
  },
  {
   "cell_type": "code",
   "execution_count": 5,
   "id": "7d9bd737",
   "metadata": {},
   "outputs": [],
   "source": [
    "df.drop([\"score\",\"member_id\"],axis=1,inplace=True)"
   ]
  },
  {
   "cell_type": "code",
   "execution_count": 6,
   "id": "5c8da525",
   "metadata": {},
   "outputs": [
    {
     "data": {
      "text/html": [
       "<div>\n",
       "<style scoped>\n",
       "    .dataframe tbody tr th:only-of-type {\n",
       "        vertical-align: middle;\n",
       "    }\n",
       "\n",
       "    .dataframe tbody tr th {\n",
       "        vertical-align: top;\n",
       "    }\n",
       "\n",
       "    .dataframe thead th {\n",
       "        text-align: right;\n",
       "    }\n",
       "</style>\n",
       "<table border=\"1\" class=\"dataframe\">\n",
       "  <thead>\n",
       "    <tr style=\"text-align: right;\">\n",
       "      <th></th>\n",
       "      <th>0</th>\n",
       "      <th>1</th>\n",
       "      <th>2</th>\n",
       "      <th>3</th>\n",
       "      <th>4</th>\n",
       "    </tr>\n",
       "  </thead>\n",
       "  <tbody>\n",
       "    <tr>\n",
       "      <th>defaul_payment_hist</th>\n",
       "      <td>0</td>\n",
       "      <td>0</td>\n",
       "      <td>0</td>\n",
       "      <td>35</td>\n",
       "      <td>38</td>\n",
       "    </tr>\n",
       "    <tr>\n",
       "      <th>credit_history</th>\n",
       "      <td>10957</td>\n",
       "      <td>5114</td>\n",
       "      <td>4595</td>\n",
       "      <td>6909</td>\n",
       "      <td>7426</td>\n",
       "    </tr>\n",
       "    <tr>\n",
       "      <th>open_acc</th>\n",
       "      <td>3</td>\n",
       "      <td>3</td>\n",
       "      <td>2</td>\n",
       "      <td>10</td>\n",
       "      <td>15</td>\n",
       "    </tr>\n",
       "    <tr>\n",
       "      <th>indebtedness</th>\n",
       "      <td>0</td>\n",
       "      <td>0</td>\n",
       "      <td>0</td>\n",
       "      <td>0</td>\n",
       "      <td>17.4687</td>\n",
       "    </tr>\n",
       "    <tr>\n",
       "      <th>amount</th>\n",
       "      <td>180957</td>\n",
       "      <td>151353</td>\n",
       "      <td>98831</td>\n",
       "      <td>174366</td>\n",
       "      <td>80588</td>\n",
       "    </tr>\n",
       "    <tr>\n",
       "      <th>mf_return</th>\n",
       "      <td>1.90006e+07</td>\n",
       "      <td>6.16484e+06</td>\n",
       "      <td>6.68061e+06</td>\n",
       "      <td>1.20015e+07</td>\n",
       "      <td>5.84016e+06</td>\n",
       "    </tr>\n",
       "    <tr>\n",
       "      <th>balance</th>\n",
       "      <td>260478</td>\n",
       "      <td>221916</td>\n",
       "      <td>143652</td>\n",
       "      <td>254640</td>\n",
       "      <td>113281</td>\n",
       "    </tr>\n",
       "    <tr>\n",
       "      <th>improvement</th>\n",
       "      <td>investment_score</td>\n",
       "      <td>investment_score</td>\n",
       "      <td>risk_score</td>\n",
       "      <td>investment_score</td>\n",
       "      <td>roi_score</td>\n",
       "    </tr>\n",
       "    <tr>\n",
       "      <th>cumulative_tenure</th>\n",
       "      <td>213</td>\n",
       "      <td>208</td>\n",
       "      <td>90</td>\n",
       "      <td>179</td>\n",
       "      <td>87</td>\n",
       "    </tr>\n",
       "    <tr>\n",
       "      <th>cumulative_inv_amount</th>\n",
       "      <td>2576727</td>\n",
       "      <td>1950971</td>\n",
       "      <td>973186</td>\n",
       "      <td>2059523</td>\n",
       "      <td>1214105</td>\n",
       "    </tr>\n",
       "    <tr>\n",
       "      <th>cumulative_risk</th>\n",
       "      <td>48</td>\n",
       "      <td>17</td>\n",
       "      <td>0</td>\n",
       "      <td>15</td>\n",
       "      <td>30</td>\n",
       "    </tr>\n",
       "    <tr>\n",
       "      <th>total_mfs</th>\n",
       "      <td>16</td>\n",
       "      <td>17</td>\n",
       "      <td>9</td>\n",
       "      <td>15</td>\n",
       "      <td>6</td>\n",
       "    </tr>\n",
       "    <tr>\n",
       "      <th>total_tenure</th>\n",
       "      <td>123</td>\n",
       "      <td>136</td>\n",
       "      <td>80</td>\n",
       "      <td>92</td>\n",
       "      <td>68</td>\n",
       "    </tr>\n",
       "    <tr>\n",
       "      <th>mf_cat_equity_scheme</th>\n",
       "      <td>2</td>\n",
       "      <td>1</td>\n",
       "      <td>0</td>\n",
       "      <td>0</td>\n",
       "      <td>0</td>\n",
       "    </tr>\n",
       "    <tr>\n",
       "      <th>mf_cat_debt_scheme</th>\n",
       "      <td>2</td>\n",
       "      <td>4</td>\n",
       "      <td>3</td>\n",
       "      <td>3</td>\n",
       "      <td>1</td>\n",
       "    </tr>\n",
       "    <tr>\n",
       "      <th>mf_cat_other_scheme</th>\n",
       "      <td>0</td>\n",
       "      <td>0</td>\n",
       "      <td>1</td>\n",
       "      <td>0</td>\n",
       "      <td>0</td>\n",
       "    </tr>\n",
       "    <tr>\n",
       "      <th>mf_cat_hybrid_scheme</th>\n",
       "      <td>0</td>\n",
       "      <td>0</td>\n",
       "      <td>0</td>\n",
       "      <td>0</td>\n",
       "      <td>0</td>\n",
       "    </tr>\n",
       "    <tr>\n",
       "      <th>mf_cat_solution_scheme</th>\n",
       "      <td>0</td>\n",
       "      <td>0</td>\n",
       "      <td>1</td>\n",
       "      <td>0</td>\n",
       "      <td>0</td>\n",
       "    </tr>\n",
       "    <tr>\n",
       "      <th>mf_cat_others</th>\n",
       "      <td>12</td>\n",
       "      <td>10</td>\n",
       "      <td>4</td>\n",
       "      <td>9</td>\n",
       "      <td>5</td>\n",
       "    </tr>\n",
       "  </tbody>\n",
       "</table>\n",
       "</div>"
      ],
      "text/plain": [
       "                                       0                 1            2  \\\n",
       "defaul_payment_hist                    0                 0            0   \n",
       "credit_history                     10957              5114         4595   \n",
       "open_acc                               3                 3            2   \n",
       "indebtedness                           0                 0            0   \n",
       "amount                            180957            151353        98831   \n",
       "mf_return                    1.90006e+07       6.16484e+06  6.68061e+06   \n",
       "balance                           260478            221916       143652   \n",
       "improvement             investment_score  investment_score   risk_score   \n",
       "cumulative_tenure                    213               208           90   \n",
       "cumulative_inv_amount            2576727           1950971       973186   \n",
       "cumulative_risk                       48                17            0   \n",
       "total_mfs                             16                17            9   \n",
       "total_tenure                         123               136           80   \n",
       "mf_cat_equity_scheme                   2                 1            0   \n",
       "mf_cat_debt_scheme                     2                 4            3   \n",
       "mf_cat_other_scheme                    0                 0            1   \n",
       "mf_cat_hybrid_scheme                   0                 0            0   \n",
       "mf_cat_solution_scheme                 0                 0            1   \n",
       "mf_cat_others                         12                10            4   \n",
       "\n",
       "                                       3            4  \n",
       "defaul_payment_hist                   35           38  \n",
       "credit_history                      6909         7426  \n",
       "open_acc                              10           15  \n",
       "indebtedness                           0      17.4687  \n",
       "amount                            174366        80588  \n",
       "mf_return                    1.20015e+07  5.84016e+06  \n",
       "balance                           254640       113281  \n",
       "improvement             investment_score    roi_score  \n",
       "cumulative_tenure                    179           87  \n",
       "cumulative_inv_amount            2059523      1214105  \n",
       "cumulative_risk                       15           30  \n",
       "total_mfs                             15            6  \n",
       "total_tenure                          92           68  \n",
       "mf_cat_equity_scheme                   0            0  \n",
       "mf_cat_debt_scheme                     3            1  \n",
       "mf_cat_other_scheme                    0            0  \n",
       "mf_cat_hybrid_scheme                   0            0  \n",
       "mf_cat_solution_scheme                 0            0  \n",
       "mf_cat_others                          9            5  "
      ]
     },
     "execution_count": 6,
     "metadata": {},
     "output_type": "execute_result"
    }
   ],
   "source": [
    "df.head().T"
   ]
  },
  {
   "cell_type": "code",
   "execution_count": 7,
   "id": "182a4231",
   "metadata": {},
   "outputs": [
    {
     "data": {
      "text/plain": [
       "7"
      ]
     },
     "execution_count": 7,
     "metadata": {},
     "output_type": "execute_result"
    }
   ],
   "source": [
    "improvements=df[\"improvement\"].nunique()\n",
    "improvements"
   ]
  },
  {
   "cell_type": "code",
   "execution_count": 8,
   "id": "887e1783",
   "metadata": {},
   "outputs": [],
   "source": [
    "X=df.drop(columns=\"improvement\",axis=1)\n",
    "y=df[\"improvement\"]"
   ]
  },
  {
   "cell_type": "code",
   "execution_count": 8,
   "id": "b747cc32",
   "metadata": {},
   "outputs": [],
   "source": [
    "y = df[\"improvement\"].astype(\"category\").cat.codes"
   ]
  },
  {
   "cell_type": "code",
   "execution_count": 5,
   "id": "f39ca1e5",
   "metadata": {},
   "outputs": [],
   "source": [
    "improvement_list=df[\"improvement\"].value_counts().index.to_list()"
   ]
  },
  {
   "cell_type": "code",
   "execution_count": 70,
   "id": "cafe1539",
   "metadata": {},
   "outputs": [
    {
     "data": {
      "text/plain": [
       "risk_score          13295\n",
       "roi_score           11341\n",
       "investment_score     7432\n",
       "credit_score         2840\n",
       "time_score           2527\n",
       "diversity_score       146\n",
       "confidence_score      112\n",
       "Name: improvement, dtype: int64"
      ]
     },
     "execution_count": 70,
     "metadata": {},
     "output_type": "execute_result"
    }
   ],
   "source": [
    "df[\"improvement\"].value_counts()"
   ]
  },
  {
   "cell_type": "code",
   "execution_count": 6,
   "id": "e38e73cf",
   "metadata": {},
   "outputs": [],
   "source": [
    "df_improvements=pd.DataFrame()"
   ]
  },
  {
   "cell_type": "code",
   "execution_count": 7,
   "id": "a1923987",
   "metadata": {},
   "outputs": [],
   "source": [
    "df_improvements[\"improvement\"]=improvement_list"
   ]
  },
  {
   "cell_type": "code",
   "execution_count": 9,
   "id": "2addb7fe",
   "metadata": {},
   "outputs": [],
   "source": [
    "df_improvements[\"index\"]=y.value_counts().index.to_list()"
   ]
  },
  {
   "cell_type": "code",
   "execution_count": 71,
   "id": "53c387e4",
   "metadata": {},
   "outputs": [
    {
     "data": {
      "text/plain": [
       "4    13295\n",
       "5    11341\n",
       "3     7432\n",
       "1     2840\n",
       "6     2527\n",
       "2      146\n",
       "0      112\n",
       "dtype: int64"
      ]
     },
     "execution_count": 71,
     "metadata": {},
     "output_type": "execute_result"
    }
   ],
   "source": [
    "y.value_counts()"
   ]
  },
  {
   "cell_type": "code",
   "execution_count": 11,
   "id": "eda72532",
   "metadata": {},
   "outputs": [],
   "source": [
    "df_improvements.to_pickle(\"improvement_mapping.pkl\")"
   ]
  },
  {
   "cell_type": "code",
   "execution_count": 58,
   "id": "126bb1ca",
   "metadata": {},
   "outputs": [
    {
     "data": {
      "text/plain": [
       "Int64Index([4, 5, 3, 1, 6, 2, 0], dtype='int64')"
      ]
     },
     "execution_count": 58,
     "metadata": {},
     "output_type": "execute_result"
    }
   ],
   "source": [
    "y.value_counts().index"
   ]
  },
  {
   "cell_type": "code",
   "execution_count": 11,
   "id": "261131ec",
   "metadata": {},
   "outputs": [],
   "source": [
    "from sklearn.preprocessing import MinMaxScaler\n",
    "scaler=MinMaxScaler()"
   ]
  },
  {
   "cell_type": "code",
   "execution_count": 14,
   "id": "f85427e2",
   "metadata": {},
   "outputs": [],
   "source": [
    "# Test ,Train split\n",
    "X_train, X_test, y_train, y_test = train_test_split(X,y, train_size=0.7,test_size=0.3,random_state=100)"
   ]
  },
  {
   "cell_type": "code",
   "execution_count": 15,
   "id": "c9db2dfa",
   "metadata": {},
   "outputs": [],
   "source": [
    "X_train = scaler.fit_transform(X_train)"
   ]
  },
  {
   "cell_type": "code",
   "execution_count": 18,
   "id": "d0792c73",
   "metadata": {},
   "outputs": [
    {
     "data": {
      "text/plain": [
       "(26385, 18)"
      ]
     },
     "execution_count": 18,
     "metadata": {},
     "output_type": "execute_result"
    }
   ],
   "source": [
    "input_shape=X_train.shape\n",
    "input_shape\n"
   ]
  },
  {
   "cell_type": "code",
   "execution_count": 17,
   "id": "c9501c7c",
   "metadata": {},
   "outputs": [
    {
     "data": {
      "text/plain": [
       "(26385,)"
      ]
     },
     "execution_count": 17,
     "metadata": {},
     "output_type": "execute_result"
    }
   ],
   "source": [
    "output_shape=y_train.shape\n",
    "output_shape"
   ]
  },
  {
   "cell_type": "code",
   "execution_count": 19,
   "id": "30611d60",
   "metadata": {},
   "outputs": [],
   "source": [
    "def one_hot(j,output):\n",
    "    # input is the target dataset of shape (1, m) where m is the number of data points\n",
    "    # returns a 2 dimensional array of shape (10, m) where each target value is converted to a one hot encoding\n",
    "    # Look at the next block of code for a better understanding of one hot encoding\n",
    "    n = j.shape[0]\n",
    "    new_array = np.zeros((output, n))\n",
    "    index = 0\n",
    "    for res in j:\n",
    "        new_array[res][index] = 1.0\n",
    "        index = index + 1\n",
    "    return new_array"
   ]
  },
  {
   "cell_type": "code",
   "execution_count": 22,
   "id": "7658a074",
   "metadata": {},
   "outputs": [
    {
     "data": {
      "text/plain": [
       "array([[0., 0., 0., ..., 0., 0., 0.],\n",
       "       [0., 0., 0., ..., 0., 0., 0.],\n",
       "       [0., 0., 0., ..., 0., 0., 0.],\n",
       "       ...,\n",
       "       [0., 0., 1., ..., 1., 1., 1.],\n",
       "       [1., 0., 0., ..., 0., 0., 0.],\n",
       "       [0., 0., 0., ..., 0., 0., 0.]])"
      ]
     },
     "execution_count": 22,
     "metadata": {},
     "output_type": "execute_result"
    }
   ],
   "source": [
    "y_train_enc=one_hot(y_train,improvements)\n",
    "y_train_enc"
   ]
  },
  {
   "cell_type": "code",
   "execution_count": 23,
   "id": "ae10fe7a",
   "metadata": {},
   "outputs": [
    {
     "data": {
      "text/plain": [
       "(7, 26385)"
      ]
     },
     "execution_count": 23,
     "metadata": {},
     "output_type": "execute_result"
    }
   ],
   "source": [
    "y_train_enc.shape"
   ]
  },
  {
   "cell_type": "code",
   "execution_count": 24,
   "id": "c2fd355f",
   "metadata": {},
   "outputs": [],
   "source": [
    "y_train =y_train_enc.T"
   ]
  },
  {
   "cell_type": "code",
   "execution_count": 25,
   "id": "5843c954",
   "metadata": {},
   "outputs": [
    {
     "data": {
      "text/plain": [
       "(26385, 18)"
      ]
     },
     "execution_count": 25,
     "metadata": {},
     "output_type": "execute_result"
    }
   ],
   "source": [
    "X_train.shape"
   ]
  },
  {
   "cell_type": "code",
   "execution_count": 37,
   "id": "06237217",
   "metadata": {},
   "outputs": [
    {
     "data": {
      "text/plain": [
       "18"
      ]
     },
     "execution_count": 37,
     "metadata": {},
     "output_type": "execute_result"
    }
   ],
   "source": [
    "input_shape=X_train.shape[1]\n",
    "input_shape"
   ]
  },
  {
   "cell_type": "code",
   "execution_count": 26,
   "id": "29550e08",
   "metadata": {},
   "outputs": [
    {
     "data": {
      "text/plain": [
       "7"
      ]
     },
     "execution_count": 26,
     "metadata": {},
     "output_type": "execute_result"
    }
   ],
   "source": [
    "output=y_train.shape[1]\n",
    "output"
   ]
  },
  {
   "cell_type": "code",
   "execution_count": 27,
   "id": "f117a207",
   "metadata": {},
   "outputs": [
    {
     "data": {
      "text/plain": [
       "(26385, 7)"
      ]
     },
     "execution_count": 27,
     "metadata": {},
     "output_type": "execute_result"
    }
   ],
   "source": [
    "y_train.shape"
   ]
  },
  {
   "cell_type": "code",
   "execution_count": 30,
   "id": "6d5ea3fe",
   "metadata": {},
   "outputs": [],
   "source": [
    "#!pip install -q keras"
   ]
  },
  {
   "cell_type": "code",
   "execution_count": 29,
   "id": "7b845ebb",
   "metadata": {},
   "outputs": [
    {
     "name": "stdout",
     "output_type": "stream",
     "text": [
      "WARNING:tensorflow:From /home/ec2-user/anaconda3/envs/tensorflow_p36/cpu/lib/python3.6/site-packages/tensorflow_core/__init__.py:1473: The name tf.estimator.inputs is deprecated. Please use tf.compat.v1.estimator.inputs instead.\n",
      "\n"
     ]
    }
   ],
   "source": [
    "from tensorflow import keras \n",
    "from tensorflow.keras.models import Sequential\n",
    "from tensorflow.keras.layers import Dense, Dropout, BatchNormalization, Activation ,Flatten\n",
    "from tensorflow.keras import regularizers"
   ]
  },
  {
   "cell_type": "code",
   "execution_count": 38,
   "id": "550890e6",
   "metadata": {},
   "outputs": [],
   "source": [
    "# create model\n",
    "nn_model = Sequential()\n",
    "nn_model.add(Dense(128, input_dim=input_shape, activation='relu'))\n",
    "nn_model.add(Dropout(rate=0.3))\n",
    "nn_model.add(BatchNormalization())\n",
    "nn_model.add(Dense(64, activation = 'relu'))\n",
    "nn_model.add(Dropout(rate=0.3))\n",
    "nn_model.add(BatchNormalization())\n",
    "nn_model.add(Dense(32, activation = 'relu'))\n",
    "nn_model.add(Dense(output, activation='softmax'))"
   ]
  },
  {
   "cell_type": "code",
   "execution_count": 40,
   "id": "ff8e7db4",
   "metadata": {},
   "outputs": [
    {
     "name": "stdout",
     "output_type": "stream",
     "text": [
      "Model: \"sequential_1\"\n",
      "_________________________________________________________________\n",
      "Layer (type)                 Output Shape              Param #   \n",
      "=================================================================\n",
      "dense_4 (Dense)              (None, 128)               2432      \n",
      "_________________________________________________________________\n",
      "dropout_2 (Dropout)          (None, 128)               0         \n",
      "_________________________________________________________________\n",
      "batch_normalization_2 (Batch (None, 128)               512       \n",
      "_________________________________________________________________\n",
      "dense_5 (Dense)              (None, 64)                8256      \n",
      "_________________________________________________________________\n",
      "dropout_3 (Dropout)          (None, 64)                0         \n",
      "_________________________________________________________________\n",
      "batch_normalization_3 (Batch (None, 64)                256       \n",
      "_________________________________________________________________\n",
      "dense_6 (Dense)              (None, 32)                2080      \n",
      "_________________________________________________________________\n",
      "dense_7 (Dense)              (None, 7)                 231       \n",
      "=================================================================\n",
      "Total params: 13,767\n",
      "Trainable params: 13,383\n",
      "Non-trainable params: 384\n",
      "_________________________________________________________________\n"
     ]
    }
   ],
   "source": [
    "nn_model.summary()"
   ]
  },
  {
   "cell_type": "code",
   "execution_count": 41,
   "id": "c99ee06b",
   "metadata": {},
   "outputs": [],
   "source": [
    "nn_model.compile(loss='categorical_crossentropy', optimizer='adam', metrics=[\"accuracy\"])"
   ]
  },
  {
   "cell_type": "code",
   "execution_count": 43,
   "id": "cae8466f",
   "metadata": {},
   "outputs": [
    {
     "name": "stdout",
     "output_type": "stream",
     "text": [
      "Train on 26385 samples\n",
      "Epoch 1/50\n",
      "26385/26385 [==============================] - 2s 63us/sample - loss: 0.3143 - acc: 0.8835\n",
      "Epoch 2/50\n",
      "26385/26385 [==============================] - 2s 63us/sample - loss: 0.3003 - acc: 0.8888\n",
      "Epoch 3/50\n",
      "26385/26385 [==============================] - 2s 61us/sample - loss: 0.3006 - acc: 0.8896\n",
      "Epoch 4/50\n",
      "26385/26385 [==============================] - 2s 62us/sample - loss: 0.2965 - acc: 0.8902\n",
      "Epoch 5/50\n",
      "26385/26385 [==============================] - 2s 64us/sample - loss: 0.2918 - acc: 0.8936\n",
      "Epoch 6/50\n",
      "26385/26385 [==============================] - 2s 62us/sample - loss: 0.2896 - acc: 0.8920\n",
      "Epoch 7/50\n",
      "26385/26385 [==============================] - 2s 63us/sample - loss: 0.2841 - acc: 0.8964\n",
      "Epoch 8/50\n",
      "26385/26385 [==============================] - 2s 62us/sample - loss: 0.2818 - acc: 0.8963\n",
      "Epoch 9/50\n",
      "26385/26385 [==============================] - 2s 62us/sample - loss: 0.2844 - acc: 0.8958\n",
      "Epoch 10/50\n",
      "26385/26385 [==============================] - 2s 62us/sample - loss: 0.2770 - acc: 0.8978\n",
      "Epoch 11/50\n",
      "26385/26385 [==============================] - 2s 63us/sample - loss: 0.2718 - acc: 0.8994\n",
      "Epoch 12/50\n",
      "26385/26385 [==============================] - 2s 62us/sample - loss: 0.2713 - acc: 0.8994\n",
      "Epoch 13/50\n",
      "26385/26385 [==============================] - 2s 62us/sample - loss: 0.2654 - acc: 0.9005\n",
      "Epoch 14/50\n",
      "26385/26385 [==============================] - 2s 62us/sample - loss: 0.2639 - acc: 0.9014\n",
      "Epoch 15/50\n",
      "26385/26385 [==============================] - 2s 62us/sample - loss: 0.2701 - acc: 0.9024\n",
      "Epoch 16/50\n",
      "26385/26385 [==============================] - 2s 63us/sample - loss: 0.2594 - acc: 0.9027\n",
      "Epoch 17/50\n",
      "26385/26385 [==============================] - 2s 62us/sample - loss: 0.2642 - acc: 0.9031\n",
      "Epoch 18/50\n",
      "26385/26385 [==============================] - 2s 63us/sample - loss: 0.2605 - acc: 0.9031\n",
      "Epoch 19/50\n",
      "26385/26385 [==============================] - 2s 62us/sample - loss: 0.2518 - acc: 0.9093\n",
      "Epoch 20/50\n",
      "26385/26385 [==============================] - 2s 63us/sample - loss: 0.2530 - acc: 0.9078\n",
      "Epoch 21/50\n",
      "26385/26385 [==============================] - 2s 63us/sample - loss: 0.2512 - acc: 0.9069\n",
      "Epoch 22/50\n",
      "26385/26385 [==============================] - 2s 63us/sample - loss: 0.2520 - acc: 0.9071\n",
      "Epoch 23/50\n",
      "26385/26385 [==============================] - 2s 63us/sample - loss: 0.2571 - acc: 0.9054\n",
      "Epoch 24/50\n",
      "26385/26385 [==============================] - 2s 62us/sample - loss: 0.2531 - acc: 0.9057\n",
      "Epoch 25/50\n",
      "26385/26385 [==============================] - 2s 62us/sample - loss: 0.2489 - acc: 0.9089\n",
      "Epoch 26/50\n",
      "26385/26385 [==============================] - 2s 62us/sample - loss: 0.2462 - acc: 0.9093\n",
      "Epoch 27/50\n",
      "26385/26385 [==============================] - 2s 62us/sample - loss: 0.2420 - acc: 0.9117\n",
      "Epoch 28/50\n",
      "26385/26385 [==============================] - 2s 63us/sample - loss: 0.2430 - acc: 0.9101\n",
      "Epoch 29/50\n",
      "26385/26385 [==============================] - 2s 63us/sample - loss: 0.2369 - acc: 0.9132\n",
      "Epoch 30/50\n",
      "26385/26385 [==============================] - 2s 62us/sample - loss: 0.2394 - acc: 0.9109\n",
      "Epoch 31/50\n",
      "26385/26385 [==============================] - 2s 62us/sample - loss: 0.2413 - acc: 0.9115\n",
      "Epoch 32/50\n",
      "26385/26385 [==============================] - 2s 63us/sample - loss: 0.2411 - acc: 0.9112\n",
      "Epoch 33/50\n",
      "26385/26385 [==============================] - 2s 62us/sample - loss: 0.2420 - acc: 0.9120\n",
      "Epoch 34/50\n",
      "26385/26385 [==============================] - 2s 62us/sample - loss: 0.2338 - acc: 0.9128\n",
      "Epoch 35/50\n",
      "26385/26385 [==============================] - 2s 64us/sample - loss: 0.2340 - acc: 0.9133\n",
      "Epoch 36/50\n",
      "26385/26385 [==============================] - 2s 63us/sample - loss: 0.2353 - acc: 0.9111\n",
      "Epoch 37/50\n",
      "26385/26385 [==============================] - 2s 63us/sample - loss: 0.2359 - acc: 0.9138\n",
      "Epoch 38/50\n",
      "26385/26385 [==============================] - 2s 62us/sample - loss: 0.2317 - acc: 0.9130\n",
      "Epoch 39/50\n",
      "26385/26385 [==============================] - 2s 62us/sample - loss: 0.2368 - acc: 0.9113\n",
      "Epoch 40/50\n",
      "26385/26385 [==============================] - 2s 62us/sample - loss: 0.2310 - acc: 0.9153\n",
      "Epoch 41/50\n",
      "26385/26385 [==============================] - 2s 62us/sample - loss: 0.2282 - acc: 0.9171\n",
      "Epoch 42/50\n",
      "26385/26385 [==============================] - 2s 62us/sample - loss: 0.2329 - acc: 0.9134\n",
      "Epoch 43/50\n",
      "26385/26385 [==============================] - 2s 62us/sample - loss: 0.2317 - acc: 0.9139\n",
      "Epoch 44/50\n",
      "26385/26385 [==============================] - 2s 63us/sample - loss: 0.2281 - acc: 0.9171\n",
      "Epoch 45/50\n",
      "26385/26385 [==============================] - 2s 63us/sample - loss: 0.2326 - acc: 0.9136\n",
      "Epoch 46/50\n",
      "26385/26385 [==============================] - 2s 61us/sample - loss: 0.2261 - acc: 0.9173\n",
      "Epoch 47/50\n",
      "26385/26385 [==============================] - 2s 63us/sample - loss: 0.2287 - acc: 0.9147\n",
      "Epoch 48/50\n",
      "26385/26385 [==============================] - 2s 61us/sample - loss: 0.2295 - acc: 0.9145\n",
      "Epoch 49/50\n",
      "26385/26385 [==============================] - 2s 63us/sample - loss: 0.2293 - acc: 0.9154\n",
      "Epoch 50/50\n",
      "26385/26385 [==============================] - 2s 62us/sample - loss: 0.2224 - acc: 0.9192\n"
     ]
    },
    {
     "data": {
      "text/plain": [
       "<tensorflow.python.keras.callbacks.History at 0x7ff2ba0850f0>"
      ]
     },
     "execution_count": 43,
     "metadata": {},
     "output_type": "execute_result"
    }
   ],
   "source": [
    "nn_model.fit(X_train, y_train, epochs=50, batch_size=100)"
   ]
  },
  {
   "cell_type": "code",
   "execution_count": 44,
   "id": "12e2f3f2",
   "metadata": {},
   "outputs": [
    {
     "name": "stdout",
     "output_type": "stream",
     "text": [
      "26385/26385 [==============================] - 2s 72us/sample - loss: 0.1332 - acc: 0.9539\n",
      "\n",
      "acc: 95.39%\n"
     ]
    }
   ],
   "source": [
    "scores_train = nn_model.evaluate(X_train, y_train)\n",
    "print(\"\\n%s: %.2f%%\" % (nn_model.metrics_names[1], scores_train[1]*100))"
   ]
  },
  {
   "cell_type": "code",
   "execution_count": 46,
   "id": "7c694165",
   "metadata": {},
   "outputs": [],
   "source": [
    "X_test = scaler.fit_transform(X_test)"
   ]
  },
  {
   "cell_type": "code",
   "execution_count": 47,
   "id": "270650f4",
   "metadata": {},
   "outputs": [
    {
     "data": {
      "text/plain": [
       "array([[0., 0., 0., ..., 0., 0., 0.],\n",
       "       [0., 0., 1., ..., 0., 0., 0.],\n",
       "       [0., 0., 0., ..., 0., 0., 0.],\n",
       "       ...,\n",
       "       [0., 0., 0., ..., 1., 1., 0.],\n",
       "       [0., 1., 0., ..., 0., 0., 0.],\n",
       "       [1., 0., 0., ..., 0., 0., 1.]])"
      ]
     },
     "execution_count": 47,
     "metadata": {},
     "output_type": "execute_result"
    }
   ],
   "source": [
    "y_test_enc=one_hot(y_test,improvements)\n",
    "y_test_enc"
   ]
  },
  {
   "cell_type": "code",
   "execution_count": 48,
   "id": "b97d41e9",
   "metadata": {},
   "outputs": [],
   "source": [
    "y_test=y_test_enc.T"
   ]
  },
  {
   "cell_type": "code",
   "execution_count": 49,
   "id": "c9fe2cda",
   "metadata": {},
   "outputs": [
    {
     "name": "stdout",
     "output_type": "stream",
     "text": [
      "11308/11308 [==============================] - 1s 63us/sample - loss: 0.1752 - acc: 0.9315\n",
      "\n",
      "acc: 93.15%\n"
     ]
    }
   ],
   "source": [
    "scores_train = nn_model.evaluate(X_test, y_test)\n",
    "print(\"\\n%s: %.2f%%\" % (nn_model.metrics_names[1], scores_train[1]*100))"
   ]
  },
  {
   "cell_type": "code",
   "execution_count": 50,
   "id": "f971f3a5",
   "metadata": {},
   "outputs": [],
   "source": [
    "test=X_test[:1]"
   ]
  },
  {
   "cell_type": "code",
   "execution_count": 80,
   "id": "74ed1dd6",
   "metadata": {},
   "outputs": [
    {
     "data": {
      "text/plain": [
       "array([[0.37391304, 0.22091054, 0.10810811, 0.        , 0.12887439,\n",
       "        0.09684344, 0.12920137, 0.12635379, 0.08593061, 0.12631579,\n",
       "        0.16666667, 0.20588235, 0.14285714, 0.16666667, 0.        ,\n",
       "        0.        , 0.        , 0.05882353]])"
      ]
     },
     "execution_count": 80,
     "metadata": {},
     "output_type": "execute_result"
    }
   ],
   "source": [
    "test"
   ]
  },
  {
   "cell_type": "code",
   "execution_count": 52,
   "id": "ca197775",
   "metadata": {},
   "outputs": [
    {
     "data": {
      "text/plain": [
       "array([[1.5919998e-03, 1.1137313e-04, 9.2452821e-05, 2.4858431e-05,\n",
       "        5.2024162e-01, 4.5161945e-04, 4.7748610e-01]], dtype=float32)"
      ]
     },
     "execution_count": 52,
     "metadata": {},
     "output_type": "execute_result"
    }
   ],
   "source": [
    "predictions = nn_model.predict(test)\n",
    "predictions"
   ]
  },
  {
   "cell_type": "code",
   "execution_count": 53,
   "id": "4dfbbeb9",
   "metadata": {},
   "outputs": [],
   "source": [
    "nn_model.save(\"improvement_nn_model.h5\")"
   ]
  },
  {
   "cell_type": "code",
   "execution_count": 72,
   "id": "c17386b4",
   "metadata": {},
   "outputs": [],
   "source": [
    "top_2=(-predictions.ravel()).argsort()[:2]"
   ]
  },
  {
   "cell_type": "code",
   "execution_count": 73,
   "id": "1547e18f",
   "metadata": {},
   "outputs": [
    {
     "data": {
      "text/plain": [
       "array([4, 6])"
      ]
     },
     "execution_count": 73,
     "metadata": {},
     "output_type": "execute_result"
    }
   ],
   "source": [
    "top_2"
   ]
  },
  {
   "cell_type": "code",
   "execution_count": null,
   "id": "02e67f6b",
   "metadata": {},
   "outputs": [],
   "source": [
    "df_improvements"
   ]
  },
  {
   "cell_type": "code",
   "execution_count": 78,
   "id": "622958ed",
   "metadata": {},
   "outputs": [
    {
     "data": {
      "text/plain": [
       "['risk_score', 'time_score']"
      ]
     },
     "execution_count": 78,
     "metadata": {},
     "output_type": "execute_result"
    }
   ],
   "source": [
    "df_improvements[(df_improvements[\"index\"].isin(top_2))][\"improvement\"].to_list()"
   ]
  },
  {
   "cell_type": "code",
   "execution_count": 19,
   "id": "391e3b6b",
   "metadata": {},
   "outputs": [],
   "source": [
    "improve={\"diversity_score\":[\"Diversify your mutual funds. Don't invest only in one type of funds\"],\n",
    "         \"roi_score\":[\"Your overall mutual fund rate of return is low. Try to invest in high return funds\"],\n",
    "         \"risk_score\": [\"Diversify your risk. Most of the funds are under same risk.\"],\n",
    "        \"investment_score\":[\"You can have funds available for investments. It's a good practice to invest 10-15% of your funds\"],\n",
    "         \"time_score\": [\"Its good to invest the mutual funds for a longer period to get the power of compound interest\"],\n",
    "         \"credit_score\": [\"Try to avoid defaulting on your loan installments. Its impacts your financial score like CIBIL and future loan applications.\"],\n",
    "         \"confidence_score\":[\"Try to invest for more time and more funds, to get higher returns using the power of compound interest\"]\n",
    "        }"
   ]
  },
  {
   "cell_type": "code",
   "execution_count": 99,
   "id": "4bbbf53b",
   "metadata": {},
   "outputs": [
    {
     "data": {
      "text/plain": [
       "dict"
      ]
     },
     "execution_count": 99,
     "metadata": {},
     "output_type": "execute_result"
    }
   ],
   "source": [
    "type(improve)"
   ]
  },
  {
   "cell_type": "code",
   "execution_count": 20,
   "id": "8a2a0bfe",
   "metadata": {},
   "outputs": [],
   "source": [
    "improvement_dict=pd.DataFrame(improve).T.reset_index()"
   ]
  },
  {
   "cell_type": "code",
   "execution_count": 21,
   "id": "639b5351",
   "metadata": {},
   "outputs": [],
   "source": [
    "improvement_dict.columns=[\"improvement\",\"text\"]"
   ]
  },
  {
   "cell_type": "code",
   "execution_count": 110,
   "id": "3cc3b1bb",
   "metadata": {},
   "outputs": [
    {
     "data": {
      "text/plain": [
       "['Diversify your risk. Most of the funds are under same risk.',\n",
       " 'Its good to invest the mutual funds for a longer period to get the power of compound interest']"
      ]
     },
     "execution_count": 110,
     "metadata": {},
     "output_type": "execute_result"
    }
   ],
   "source": [
    "improvement_dict[improvement_dict[\"improvement\"].isin(['risk_score', 'time_score'])][\"text\"].to_list()"
   ]
  },
  {
   "cell_type": "code",
   "execution_count": 24,
   "id": "a488b577",
   "metadata": {},
   "outputs": [
    {
     "data": {
      "text/plain": [
       "[{'improvement': 'diversity_score',\n",
       "  'text': \"Diversify your mutual funds. Don't invest only in one type of funds\"},\n",
       " {'improvement': 'roi_score',\n",
       "  'text': 'Your overall mutual fund rate of return is low. Try to invest in high return funds'},\n",
       " {'improvement': 'risk_score',\n",
       "  'text': 'Diversify your risk. Most of the funds are under same risk.'},\n",
       " {'improvement': 'investment_score',\n",
       "  'text': \"You can have funds available for investments. It's a good practice to invest 10-15% of your funds\"},\n",
       " {'improvement': 'time_score',\n",
       "  'text': 'Its good to invest the mutual funds for a longer period to get the power of compound interest'},\n",
       " {'improvement': 'credit_score',\n",
       "  'text': 'Try to avoid defaulting on your loan installments. Its impacts your financial score like CIBIL and future loan applications.'},\n",
       " {'improvement': 'confidence_score',\n",
       "  'text': 'Try to invest for more time and more funds, to get higher returns using the power of compound interest'}]"
      ]
     },
     "execution_count": 24,
     "metadata": {},
     "output_type": "execute_result"
    }
   ],
   "source": [
    "improvement_dict.to_dict(orient='records')"
   ]
  },
  {
   "cell_type": "code",
   "execution_count": null,
   "id": "007c02f4",
   "metadata": {},
   "outputs": [],
   "source": []
  }
 ],
 "metadata": {
  "kernelspec": {
   "display_name": "conda_tensorflow_p36",
   "language": "python",
   "name": "conda_tensorflow_p36"
  },
  "language_info": {
   "codemirror_mode": {
    "name": "ipython",
    "version": 3
   },
   "file_extension": ".py",
   "mimetype": "text/x-python",
   "name": "python",
   "nbconvert_exporter": "python",
   "pygments_lexer": "ipython3",
   "version": "3.6.13"
  }
 },
 "nbformat": 4,
 "nbformat_minor": 5
}
